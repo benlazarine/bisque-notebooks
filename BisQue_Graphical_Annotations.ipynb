{
 "cells": [
  {
   "cell_type": "markdown",
   "metadata": {},
   "source": [
    "Uploading an image with graphical annotations stored in a CSV file\n",
    "======================\n",
    "\n",
    "We'll be using standard python tools to parse CSV and create an XML document describing cell nuclei for BisQue\n",
    "\n",
    "Make sure you have bisque api installed:\n",
    "> pip install bisque-api"
   ]
  },
  {
   "cell_type": "code",
   "execution_count": null,
   "metadata": {
    "collapsed": true
   },
   "outputs": [],
   "source": [
    "import os\n",
    "import csv\n",
    "from datetime import datetime\n",
    "try:\n",
    "    from lxml import etree\n",
    "except ImportError:\n",
    "    import xml.etree.ElementTree as etree"
   ]
  },
  {
   "cell_type": "markdown",
   "metadata": {},
   "source": [
    "Include BisQue API"
   ]
  },
  {
   "cell_type": "code",
   "execution_count": null,
   "metadata": {
    "collapsed": false
   },
   "outputs": [],
   "source": [
    "from bqapi import BQSession, BQCommError\n",
    "from bqapi.util import save_blob, localpath2url"
   ]
  },
  {
   "cell_type": "markdown",
   "metadata": {},
   "source": [
    "define some paths"
   ]
  },
  {
   "cell_type": "code",
   "execution_count": null,
   "metadata": {
    "collapsed": true
   },
   "outputs": [],
   "source": [
    "path = './files_annot'\n",
    "path_img = os.path.join(path, 'BisQue_CombinedSubtractions.lsm')\n",
    "path_csv = os.path.join(path, 'BisQue_CombinedSubtractions.csv')"
   ]
  },
  {
   "cell_type": "markdown",
   "metadata": {},
   "source": [
    "Parse CSV file and load nuclei positions\n",
    "------------------------------------------\n",
    "\n",
    "We'll create a list of XYZT coordinates with confidence"
   ]
  },
  {
   "cell_type": "code",
   "execution_count": null,
   "metadata": {
    "collapsed": false
   },
   "outputs": [],
   "source": [
    "#x, y, z, t, confidence\n",
    "coords = []\n",
    "with open(path_csv, 'rb') as csvfile:\n",
    "    reader = csv.reader(csvfile)\n",
    "    h = reader.next()\n",
    "    for r in reader:\n",
    "        c = (r[0], r[1], r[2], r[4])\n",
    "        print c\n",
    "        coords.append(c)"
   ]
  },
  {
   "cell_type": "markdown",
   "metadata": {},
   "source": [
    "Initiaize authenticated session\n",
    "--------------\n",
    "\n",
    "Initialize a BisQue session using simple user credentials"
   ]
  },
  {
   "cell_type": "code",
   "execution_count": null,
   "metadata": {
    "collapsed": false
   },
   "outputs": [],
   "source": [
    "root = 'http://bisque.ece.ucsb.edu'\n",
    "user = 'my_user'\n",
    "pswd = 'my_pass'\n",
    "\n",
    "session = BQSession().init_local(user, pswd,  bisque_root=root, create_mex=False)"
   ]
  },
  {
   "cell_type": "markdown",
   "metadata": {},
   "source": [
    "Create XML image descriptor\n",
    "---------------------------\n",
    "\n",
    "We'll provide a suggested path in the remote user's directory "
   ]
  },
  {
   "cell_type": "code",
   "execution_count": null,
   "metadata": {
    "collapsed": false
   },
   "outputs": [],
   "source": [
    "path_on_bisque = 'demo/nuclei_%s/%s'%(datetime.now().strftime('%Y%m%dT%H%M%S'), os.path.basename(path_img))\n",
    "resource = etree.Element ('image', name=path_on_bisque)\n",
    "print etree.tostring(resource, pretty_print=True)"
   ]
  },
  {
   "cell_type": "markdown",
   "metadata": {},
   "source": [
    "Upload the image\n",
    "-----------------"
   ]
  },
  {
   "cell_type": "code",
   "execution_count": null,
   "metadata": {
    "collapsed": false
   },
   "outputs": [],
   "source": [
    "# use import service to /import/transfer activating import service\n",
    "r = etree.XML(session.postblob(path_img, xml=resource)).find('./') \n",
    "\n",
    "if r is None or r.get('uri') is None:\n",
    "    print 'Upload failed'\n",
    "else:\n",
    "    print 'Uploaded ID: %s, URL: %s\\n'%(r.get('resource_uniq'), r.get('uri'))\n",
    "    print etree.tostring(r, pretty_print=True)"
   ]
  },
  {
   "cell_type": "markdown",
   "metadata": {},
   "source": [
    "Add graphical annotations\n",
    "------------------------------\n",
    "\n",
    "We'll create point annotaions as an XML attached to the image we just uploaded into BisQue"
   ]
  },
  {
   "cell_type": "code",
   "execution_count": null,
   "metadata": {
    "collapsed": false
   },
   "outputs": [],
   "source": [
    "g = etree.SubElement (r, 'gobject', type='My nuclei')\n",
    "for c in coords:\n",
    "    p = etree.SubElement (g, 'point')\n",
    "    etree.SubElement (p, 'vertex', x=c[0], y=c[1], z=c[2])\n",
    "    etree.SubElement (p, 'tag', name='confidence', value=c[3])\n",
    "\n",
    "print etree.tostring(r, pretty_print=True)"
   ]
  },
  {
   "cell_type": "markdown",
   "metadata": {},
   "source": [
    "Save graphical annotations to the system\n",
    "------------------------------------------\n",
    "\n",
    "After storing all annotations become searchable "
   ]
  },
  {
   "cell_type": "code",
   "execution_count": null,
   "metadata": {
    "collapsed": false
   },
   "outputs": [],
   "source": [
    "url = session.service_url('data_service')\n",
    "r = session.postxml(url, r)\n",
    "\n",
    "if r is None or r.get('uri') is None:\n",
    "    print 'Adding annotations failed'\n",
    "else:\n",
    "    print 'Image ID: %s, URL: %s'%(r.get('resource_uniq'), r.get('uri'))"
   ]
  },
  {
   "cell_type": "code",
   "execution_count": null,
   "metadata": {
    "collapsed": true
   },
   "outputs": [],
   "source": []
  }
 ],
 "metadata": {
  "kernelspec": {
   "display_name": "Python 2",
   "language": "python",
   "name": "python2"
  },
  "language_info": {
   "codemirror_mode": {
    "name": "ipython",
    "version": 2
   },
   "file_extension": ".py",
   "mimetype": "text/x-python",
   "name": "python",
   "nbconvert_exporter": "python",
   "pygments_lexer": "ipython2",
   "version": "2.7.8"
  }
 },
 "nbformat": 4,
 "nbformat_minor": 0
}
