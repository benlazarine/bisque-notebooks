{
 "cells": [
  {
   "cell_type": "markdown",
   "metadata": {},
   "source": [
    "Modifying annotations in BisQue\n",
    "======================\n",
    "\n",
    "We'll be using BisQue APIs and adding and removing annotations\n",
    "\n",
    "Make sure you have bisque api installed:\n",
    "> pip install bisque-api"
   ]
  },
  {
   "cell_type": "code",
   "execution_count": null,
   "metadata": {
    "collapsed": true
   },
   "outputs": [],
   "source": [
    "import os\n",
    "import csv\n",
    "from datetime import datetime\n",
    "try:\n",
    "    from lxml import etree\n",
    "except ImportError:\n",
    "    import xml.etree.ElementTree as etree"
   ]
  },
  {
   "cell_type": "markdown",
   "metadata": {},
   "source": [
    "Include BisQue API"
   ]
  },
  {
   "cell_type": "code",
   "execution_count": null,
   "metadata": {
    "collapsed": false
   },
   "outputs": [],
   "source": [
    "from bqapi import BQSession, BQCommError\n",
    "from bqapi.util import save_blob, localpath2url"
   ]
  },
  {
   "cell_type": "markdown",
   "metadata": {},
   "source": [
    "define some paths and urls"
   ]
  },
  {
   "cell_type": "code",
   "execution_count": null,
   "metadata": {
    "collapsed": true
   },
   "outputs": [],
   "source": [
    "image_url = 'http://bisque.ece.ucsb.edu/data_service/00-uLFngDV5SFwHoitPniSqqN'"
   ]
  },
  {
   "cell_type": "markdown",
   "metadata": {},
   "source": [
    "Initiaize the authenticated session\n",
    "--------------\n",
    "\n",
    "Initialize a BisQue session using simple user credentials"
   ]
  },
  {
   "cell_type": "code",
   "execution_count": null,
   "metadata": {
    "collapsed": false
   },
   "outputs": [],
   "source": [
    "root = 'http://bisque.ece.ucsb.edu'\n",
    "user = 'demo'\n",
    "pswd = 'demo'\n",
    "\n",
    "session = BQSession().init_local(user, pswd,  bisque_root=root, create_mex=False)"
   ]
  },
  {
   "cell_type": "markdown",
   "metadata": {},
   "source": [
    "Add annotations\n",
    "------------------------------\n",
    "\n",
    "We'll add a small tree of textual and numerical annotaions"
   ]
  },
  {
   "cell_type": "code",
   "execution_count": null,
   "metadata": {
    "collapsed": false
   },
   "outputs": [],
   "source": [
    "t = etree.Element ('tag', name='my annotations')\n",
    "etree.SubElement (t, 'tag', name='species', value='Arabidopsis Thaliana')\n",
    "etree.SubElement (t, 'tag', name='confidence', value='0.8', type='number')\n",
    "\n",
    "print etree.tostring(t, pretty_print=True)"
   ]
  },
  {
   "cell_type": "markdown",
   "metadata": {},
   "source": [
    "Store annotations to the image\n",
    "------------------------------------------"
   ]
  },
  {
   "cell_type": "code",
   "execution_count": null,
   "metadata": {
    "collapsed": false
   },
   "outputs": [],
   "source": [
    "t = session.postxml(image_url, t)\n",
    "\n",
    "if t is None or t.get('uri') is None:\n",
    "    print 'Adding annotations failed'\n",
    "else:\n",
    "    print 'Tags URL: %s'%t.get('uri')"
   ]
  },
  {
   "cell_type": "markdown",
   "metadata": {},
   "source": [
    "Any annotation in the tree has a URL and can be operated on with standard HTTP verbs:\n",
    "\n",
    "* GET - read\n",
    "* POST - add/modify\n",
    "* PUT - replace\n",
    "* DELETE - remove"
   ]
  },
  {
   "cell_type": "markdown",
   "metadata": {},
   "source": [
    "Fetch parts of the image annotation document\n",
    "--------------------------------------------\n",
    "\n",
    "Any of the nodes in the tree can be fetched with various depths:\n",
    "\n",
    "* view=short - only the node itself\n",
    "* view=full - the node and the first level of children\n",
    "* view=deep - the node and all of its children"
   ]
  },
  {
   "cell_type": "code",
   "execution_count": null,
   "metadata": {
    "collapsed": false
   },
   "outputs": [],
   "source": [
    "image = session.fetchxml(image_url, view='full')\n",
    "print etree.tostring(image, pretty_print=True)"
   ]
  },
  {
   "cell_type": "markdown",
   "metadata": {},
   "source": [
    "Modify existing annotations\n",
    "----------------------------\n",
    "\n",
    "First find the annotation to modify"
   ]
  },
  {
   "cell_type": "code",
   "execution_count": null,
   "metadata": {
    "collapsed": false
   },
   "outputs": [],
   "source": [
    "t = image.xpath('//tag[@name=\"my annotations\"]')[0]\n",
    "print etree.tostring(t, pretty_print=True)"
   ]
  },
  {
   "cell_type": "markdown",
   "metadata": {},
   "source": [
    "let's modify its name"
   ]
  },
  {
   "cell_type": "code",
   "execution_count": null,
   "metadata": {
    "collapsed": false
   },
   "outputs": [],
   "source": [
    "t.set('name', 'new annotations')\n",
    "print etree.tostring(t, pretty_print=True)"
   ]
  },
  {
   "cell_type": "markdown",
   "metadata": {},
   "source": [
    "Now store the modified element back to the system"
   ]
  },
  {
   "cell_type": "code",
   "execution_count": null,
   "metadata": {
    "collapsed": false
   },
   "outputs": [],
   "source": [
    "t = session.postxml(t.get('uri'), t)\n",
    "print etree.tostring(t, pretty_print=True)"
   ]
  },
  {
   "cell_type": "markdown",
   "metadata": {},
   "source": [
    "Delete an existing annotation\n",
    "--------------------------------\n",
    "\n",
    "Let's find the annotation to delete"
   ]
  },
  {
   "cell_type": "code",
   "execution_count": null,
   "metadata": {
    "collapsed": false
   },
   "outputs": [],
   "source": [
    "g = image.xpath('//gobject[@type=\"My nuclei\"]')[0]\n",
    "print etree.tostring(g, pretty_print=True)"
   ]
  },
  {
   "cell_type": "markdown",
   "metadata": {},
   "source": [
    "send DELETE HTTP command to the annotation's URI"
   ]
  },
  {
   "cell_type": "code",
   "execution_count": null,
   "metadata": {
    "collapsed": false
   },
   "outputs": [],
   "source": [
    "g = session.deletexml(g.get('uri'))\n",
    "print g"
   ]
  }
 ],
 "metadata": {
  "kernelspec": {
   "display_name": "Python 2",
   "language": "python",
   "name": "python2"
  },
  "language_info": {
   "codemirror_mode": {
    "name": "ipython",
    "version": 2
   },
   "file_extension": ".py",
   "mimetype": "text/x-python",
   "name": "python",
   "nbconvert_exporter": "python",
   "pygments_lexer": "ipython2",
   "version": "2.7.8"
  }
 },
 "nbformat": 4,
 "nbformat_minor": 0
}
